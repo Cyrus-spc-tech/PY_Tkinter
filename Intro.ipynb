{
 "cells": [
  {
   "cell_type": "markdown",
   "id": "c2060654",
   "metadata": {},
   "source": [
    "# What is Tkinter?\n",
    "\n",
    "Tkinter is the built-in library in Python for making graphical user interfaces (GUI) — like windows, buttons, text boxes, etc.\n",
    "\n",
    "It’s very beginner-friendly and great for small projects!"
   ]
  },
  {
   "cell_type": "code",
   "execution_count": 1,
   "id": "77cd66ed",
   "metadata": {},
   "outputs": [],
   "source": [
    "import tkinter as tk"
   ]
  },
  {
   "cell_type": "code",
   "execution_count": 2,
   "id": "3e63c7db",
   "metadata": {},
   "outputs": [],
   "source": [
    "window = tk.Tk()\n",
    "window.title(\"CAnvas \")\n",
    "window.geometry(\"400x400\")\n",
    "window.configure(bg=\"black\")"
   ]
  },
  {
   "cell_type": "code",
   "execution_count": 4,
   "id": "fd37e135",
   "metadata": {},
   "outputs": [],
   "source": [
    "lable=tk.Label (window,text=\"Hello\",font=(\"Monospace\", 20), bg=\"black\", fg=\"white\")\n",
    "lable.pack()"
   ]
  },
  {
   "cell_type": "code",
   "execution_count": null,
   "id": "69452f96",
   "metadata": {},
   "outputs": [],
   "source": [
    "button = tk.Button(window, text=\"Greet Me!\", command=greet)\n",
    "button.pack(pady=10)"
   ]
  }
 ],
 "metadata": {
  "kernelspec": {
   "display_name": "Python 3",
   "language": "python",
   "name": "python3"
  },
  "language_info": {
   "codemirror_mode": {
    "name": "ipython",
    "version": 3
   },
   "file_extension": ".py",
   "mimetype": "text/x-python",
   "name": "python",
   "nbconvert_exporter": "python",
   "pygments_lexer": "ipython3",
   "version": "3.12.6"
  }
 },
 "nbformat": 4,
 "nbformat_minor": 5
}
