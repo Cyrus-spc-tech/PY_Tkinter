{
 "cells": [
  {
   "cell_type": "markdown",
   "id": "c2060654",
   "metadata": {},
   "source": [
    "# What is Tkinter?\n",
    "\n",
    "Tkinter is the built-in library in Python for making graphical user interfaces (GUI) — like windows, buttons, text boxes, etc.\n",
    "\n",
    "It’s very beginner-friendly and great for small projects!"
   ]
  },
  {
   "cell_type": "code",
   "execution_count": 2,
   "id": "77cd66ed",
   "metadata": {},
   "outputs": [],
   "source": [
    "import tkinter as tk"
   ]
  },
  {
   "cell_type": "code",
   "execution_count": 3,
   "id": "3e63c7db",
   "metadata": {},
   "outputs": [],
   "source": [
    "window = tk.Tk()\n",
    "window.title(\"CAnvas \")\n",
    "window.geometry(\"400x400\")\n",
    "window.configure(bg=\"black\")"
   ]
  },
  {
   "cell_type": "code",
   "execution_count": 4,
   "id": "fd37e135",
   "metadata": {},
   "outputs": [],
   "source": [
    "lable=tk.Label (window,text=\"Hello\",font=(\"Monospace\", 20), bg=\"black\", fg=\"white\")\n",
    "lable.pack()"
   ]
  },
  {
   "cell_type": "code",
   "execution_count": 5,
   "id": "69452f96",
   "metadata": {},
   "outputs": [
    {
     "ename": "NameError",
     "evalue": "name 'greet' is not defined",
     "output_type": "error",
     "traceback": [
      "\u001b[1;31m---------------------------------------------------------------------------\u001b[0m",
      "\u001b[1;31mNameError\u001b[0m                                 Traceback (most recent call last)",
      "Cell \u001b[1;32mIn[5], line 1\u001b[0m\n\u001b[1;32m----> 1\u001b[0m button \u001b[38;5;241m=\u001b[39m tk\u001b[38;5;241m.\u001b[39mButton(window, text\u001b[38;5;241m=\u001b[39m\u001b[38;5;124m\"\u001b[39m\u001b[38;5;124mGreet Me!\u001b[39m\u001b[38;5;124m\"\u001b[39m, command\u001b[38;5;241m=\u001b[39m\u001b[43mgreet\u001b[49m)\n\u001b[0;32m      2\u001b[0m button\u001b[38;5;241m.\u001b[39mpack(pady\u001b[38;5;241m=\u001b[39m\u001b[38;5;241m10\u001b[39m)\n",
      "\u001b[1;31mNameError\u001b[0m: name 'greet' is not defined"
     ]
    }
   ],
   "source": [
    "button = tk.Button(window, text=\"Greet Me!\", command=greet)\n",
    "button.pack(pady=10)"
   ]
  }
 ],
 "metadata": {
  "kernelspec": {
   "display_name": "Python 3",
   "language": "python",
   "name": "python3"
  },
  "language_info": {
   "codemirror_mode": {
    "name": "ipython",
    "version": 3
   },
   "file_extension": ".py",
   "mimetype": "text/x-python",
   "name": "python",
   "nbconvert_exporter": "python",
   "pygments_lexer": "ipython3",
   "version": "3.12.6"
  }
 },
 "nbformat": 4,
 "nbformat_minor": 5
}
